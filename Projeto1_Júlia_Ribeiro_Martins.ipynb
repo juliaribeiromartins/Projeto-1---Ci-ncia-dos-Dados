{
 "cells": [
  {
   "cell_type": "markdown",
   "metadata": {},
   "source": [
    "# Projeto 1 - Ciência dos Dados"
   ]
  },
  {
   "cell_type": "markdown",
   "metadata": {},
   "source": [
    "Nome: Júlia Ribeiro Martins"
   ]
  },
  {
   "cell_type": "markdown",
   "metadata": {},
   "source": [
    "## Pergunta (s) a ser respondida:"
   ]
  },
  {
   "cell_type": "markdown",
   "metadata": {},
   "source": [
    "<p style='text-align:justify;'>O maior investimento do governo em saúde implica na diminuição do número de morte de homens por causa do câncer de próstata?"
   ]
  },
  {
   "cell_type": "markdown",
   "metadata": {},
   "source": [
    "## Hipótese:"
   ]
  },
  {
   "cell_type": "markdown",
   "metadata": {},
   "source": [
    "<p style='text-align:justify;'>Com a entrada no IARC (International Agency for Research on Cancer), diminui o número de casos de câncer de prostata entre homens e consequentemente, menor mortalidade.\n"
   ]
  },
  {
   "cell_type": "markdown",
   "metadata": {},
   "source": [
    "## Método:"
   ]
  },
  {
   "cell_type": "markdown",
   "metadata": {},
   "source": [
    "<p style='text-align:justify;'>A partir do momento em que o país passa a fazer parte do IARC, em 1965 (ano de criação do bloco) ele começa a fazer pesquisas na área do câncer, sempre com foco na prevenção da doença, já que é esse o objetivo da organização. Nesses países, por tentar previnir o câncer, acabam tendo um maior gasto na área de saúde (pesquisas demandam dinheiro e também esta incluso gastos com saúde publica que o país oferece). O fato de previnir o câncer de prostata, dentre outros, traz como consequência a diminuição nas taxas de incidência dessa doença entre a população e como consequência, diminuição do número de mortes. "
   ]
  },
  {
   "cell_type": "markdown",
   "metadata": {},
   "source": [
    "## Bases de dados usadas"
   ]
  },
  {
   "cell_type": "markdown",
   "metadata": {},
   "source": [
    "<p style='text-align:justify;'>Para a Análise de dados que vai ser feita a seguir, irei usar duas tabelas, uma expressando a quantidade de mortes a cada 100 homens, devido ao câncer de prostata e a outra expressando os gastos per capita do governo geral em saúde (valores estão em dólares norte-americanos). A seguir vem os links de onde foram extraídas ambas as tabelas, respectivamente de mortalidade e dos gastos:\n",
    "    \n",
    "<br> **Prostate Male Mortality**\n",
    "<br>http://www.iarc.fr/\n",
    "<br>http://www-dep.iarc.fr/\n",
    "<br> **Per capita government expenditure on health at average exchange rate**\n",
    "<br>http://www.who.int/\n",
    "<br>http://apps.who.int/nha/database/PreDataExplorer.aspx?d=1\n"
   ]
  },
  {
   "cell_type": "markdown",
   "metadata": {},
   "source": [
    "## Análise de dados"
   ]
  },
  {
   "cell_type": "code",
   "execution_count": 6,
   "metadata": {},
   "outputs": [],
   "source": [
    "#importando as bibliotecas \n",
    "%matplotlib inline\n",
    "import pandas as pd\n",
    "import numpy as np\n",
    "import math as math\n",
    "from scipy import stats\n",
    "import matplotlib.pyplot as plt\n",
    "import os\n",
    "import seaborn as sns"
   ]
  },
  {
   "cell_type": "code",
   "execution_count": 7,
   "metadata": {},
   "outputs": [
    {
     "name": "stdout",
     "output_type": "stream",
     "text": [
      "Esperamos trabalhar no diretório\n",
      "C:\\Users\\julia\\OneDrive\\DADOS\\aula 2\\Projeto-1---Ci-ncia-dos-Dados\n"
     ]
    }
   ],
   "source": [
    "#Mostrando em qual diretório estamos trabalhando\n",
    "os.chdir(\"C:/Users/julia/OneDrive/DADOS/aula 2/Projeto-1---Ci-ncia-dos-Dados\")\n",
    "print('Esperamos trabalhar no diretório')\n",
    "print(os.getcwd())"
   ]
  },
  {
   "cell_type": "code",
   "execution_count": null,
   "metadata": {},
   "outputs": [],
   "source": []
  },
  {
   "cell_type": "code",
   "execution_count": null,
   "metadata": {},
   "outputs": [],
   "source": []
  },
  {
   "cell_type": "markdown",
   "metadata": {},
   "source": [
    "## Conclusão"
   ]
  },
  {
   "cell_type": "markdown",
   "metadata": {},
   "source": [
    "Responda à pergunta, argumento da melhor forma possível com base nos dados"
   ]
  },
  {
   "cell_type": "code",
   "execution_count": null,
   "metadata": {},
   "outputs": [],
   "source": []
  },
  {
   "cell_type": "markdown",
   "metadata": {},
   "source": [
    "**Fontes de pesquisa:**\n",
    "<p>https://www.inca.gov.br/tipos-de-cancer/cancer-de-prostata\n",
    "<p>https://www.gapminder.org/data/\n",
    "<p>https://www.inca.gov.br/atuacao-internacional/agencia-internacional-pesquisa-em-cancer-iarc\n",
    "<p>https://www.iarc.fr/about-iarc-membership/\n",
    "<p>https://www.otempo.com.br/interessa/aumento-do-cancer-no-brasil-e-na-america-latina-preocupa-1.2128557\n"
   ]
  }
 ],
 "metadata": {
  "kernelspec": {
   "display_name": "Python 3",
   "language": "python",
   "name": "python3"
  },
  "language_info": {
   "codemirror_mode": {
    "name": "ipython",
    "version": 3
   },
   "file_extension": ".py",
   "mimetype": "text/x-python",
   "name": "python",
   "nbconvert_exporter": "python",
   "pygments_lexer": "ipython3",
   "version": "3.7.1"
  }
 },
 "nbformat": 4,
 "nbformat_minor": 2
}
